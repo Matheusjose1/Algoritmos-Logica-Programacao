{
  "nbformat": 4,
  "nbformat_minor": 0,
  "metadata": {
    "colab": {
      "provenance": [],
      "authorship_tag": "ABX9TyOP27EqpnZgMyfFoBdwLKpE"
    },
    "kernelspec": {
      "name": "python3",
      "display_name": "Python 3"
    },
    "language_info": {
      "name": "python"
    }
  },
  "cells": [
    {
      "cell_type": "code",
      "execution_count": 9,
      "metadata": {
        "id": "PFUWV5YQsJU1",
        "outputId": "4c751bdb-00ca-4bbe-cb0f-4dfd989c23cb",
        "colab": {
          "base_uri": "https://localhost:8080/",
          "height": 1000
        }
      },
      "outputs": [
        {
          "output_type": "display_data",
          "data": {
            "text/plain": [
              "<IPython.core.display.Markdown object>"
            ],
            "text/markdown": "### Artigos encontrados na busca (simulada):"
          },
          "metadata": {}
        },
        {
          "output_type": "display_data",
          "data": {
            "text/plain": [
              "<IPython.core.display.Markdown object>"
            ],
            "text/markdown": "* **Fonte:** TechCrunch\nArtigo recente sobre últimas inovações em inteligência artificial..."
          },
          "metadata": {}
        },
        {
          "output_type": "display_data",
          "data": {
            "text/plain": [
              "<IPython.core.display.Markdown object>"
            ],
            "text/markdown": "* **Fonte:** The Verge\nArtigo recente sobre últimas inovações em inteligência artificial..."
          },
          "metadata": {}
        },
        {
          "output_type": "display_data",
          "data": {
            "text/plain": [
              "<IPython.core.display.Markdown object>"
            ],
            "text/markdown": "* **Fonte:** Wired\nArtigo recente sobre últimas inovações em inteligência artificial..."
          },
          "metadata": {}
        },
        {
          "output_type": "display_data",
          "data": {
            "text/plain": [
              "<IPython.core.display.Markdown object>"
            ],
            "text/markdown": "\n### Análise cruzada das fontes pelo agente de IA:"
          },
          "metadata": {}
        },
        {
          "output_type": "display_data",
          "data": {
            "text/plain": [
              "<IPython.core.display.Markdown object>"
            ],
            "text/markdown": "## Análise das Fontes de Informação Tecnológica: TechCrunch, The Verge e Wired\n\nCom base nas fontes de informação fornecidas (TechCrunch, The Verge e Wired, todas com artigos recentes sobre as últimas inovações em Inteligência Artificial), apresento a seguir uma análise focada na robustez metodológica, clareza, vieses, convergências, divergências, qualidade e confiabilidade.\n\n**Considerações Gerais:**\n\n* **Pressuposto:** Assumo que os artigos recentes sobre IA nas três plataformas seguem o padrão típico de cobertura tecnológica, combinando notícias factuais, análises de especialistas e, por vezes, opiniões.\n* **Limitação:** A ausência do conteúdo específico dos artigos impede uma análise detalhada e quantitativa. A avaliação a seguir é baseada no conhecimento geral sobre as plataformas e suas tendências editoriais.\n\n**Análise Individual das Fontes:**\n\n* **TechCrunch:**\n    * **Robustez Metodológica:** Geralmente, o TechCrunch tende a focar na aplicabilidade comercial da IA e no impacto em startups e investimentos. Sua metodologia costuma incluir entrevistas com fundadores, análise de rodadas de investimento e dados de mercado. A robustez pode variar dependendo da fonte dos dados e da profundidade da análise técnica.\n    * **Clareza:** A linguagem é geralmente acessível, voltada para um público interessado em negócios e tecnologia, mas não necessariamente especialistas em IA.\n    * **Vieses:** Possível viés pró-startup e pró-investimento. Pode haver uma tendência a destacar empresas que recebem financiamento, mesmo que a tecnologia não seja totalmente comprovada ou eticamente responsável.\n* **The Verge:**\n    * **Robustez Metodológica:** O The Verge geralmente oferece uma cobertura mais equilibrada, combinando aspectos técnicos com implicações culturais e sociais. Costumam apresentar artigos bem pesquisados, com citações de especialistas e links para estudos relevantes.\n    * **Clareza:** A linguagem é geralmente clara e acessível, com um bom equilíbrio entre detalhes técnicos e explicações para o público em geral.\n    * **Vieses:** Podem apresentar um viés progressista em relação às implicações sociais e éticas da IA. Podem ser mais críticos em relação a empresas com práticas consideradas antiéticas ou prejudiciais.\n* **Wired:**\n    * **Robustez Metodológica:** A Wired tende a oferecer análises mais profundas e conceituais, explorando o impacto filosófico e societal da IA. Sua metodologia pode envolver reportagens investigativas, entrevistas extensivas e análise de dados complexos.\n    * **Clareza:** A linguagem pode ser mais sofisticada e exigir um certo nível de familiaridade com a tecnologia.\n    * **Vieses:** Podem apresentar um viés utópico ou distópico em relação ao futuro da IA, explorando tanto as possibilidades de transformação positiva quanto os potenciais riscos.\n\n**Convergências:**\n\n* **Identificação das últimas inovações:** As três fontes, presumivelmente, abordarão as principais tendências em IA, como:\n    * Avanços em modelos de linguagem grandes (LLMs).\n    * Desenvolvimento de IA generativa (imagens, vídeos, áudio).\n    * Aplicações da IA em diversas áreas (saúde, finanças, transporte).\n    * Discussões sobre ética, viés e regulamentação da IA.\n\n**Divergências:**\n\n* **Foco:** TechCrunch foca em negócios e investimentos; The Verge foca em tecnologia e cultura; Wired foca em impacto social e filosófico.\n* **Profundidade da análise:** Wired tende a oferecer análises mais profundas e conceituais; The Verge equilibra profundidade com acessibilidade; TechCrunch foca em aplicabilidade imediata.\n* **Ângulo da abordagem:** TechCrunch é mais otimista em relação ao impacto econômico da IA; The Verge é mais crítico em relação às implicações éticas; Wired explora ambos os lados, utopia e distopia.\n\n**Resumo da Análise: Qualidade e Confiabilidade:**\n\nAs três fontes (TechCrunch, The Verge e Wired) são veículos de informação tecnológica respeitáveis, mas com abordagens e focos distintos. A qualidade e a confiabilidade de cada uma dependem da perspectiva do leitor e do tipo de informação que busca:\n\n* **Para informações sobre o impacto econômico e as oportunidades de negócios:** TechCrunch é uma boa fonte, mas é importante considerar seu possível viés pró-startup e pró-investimento.\n* **Para uma visão equilibrada da tecnologia, cultura e implicações sociais:** The Verge oferece uma cobertura abrangente e acessível, com um forte senso crítico.\n* **Para análises profundas e conceituais sobre o impacto a longo prazo da IA:** Wired oferece uma perspectiva instigante, mas pode exigir um certo nível de familiaridade com a tecnologia.\n\n**Recomendação:**\n\nPara uma compreensão completa e multifacetada das últimas inovações em IA, é recomendado consultar as três fontes, considerando seus respectivos vieses e focos. A combinação das diferentes perspectivas permitirá uma avaliação mais crítica e informada.\n\n**Observação:** Uma análise mais precisa e detalhada seria possível com acesso ao conteúdo específico dos artigos mencionados.\n"
          },
          "metadata": {}
        }
      ],
      "source": [
        "import google.generativeai as genai\n",
        "from google.colab import userdata\n",
        "import os\n",
        "from IPython.display import display, Markdown\n",
        "\n",
        "# Carrega a chave da API do Secret do Colab\n",
        "GOOGLE_API_KEY = userdata.get('GOOGLE_API_KEY')\n",
        "\n",
        "# Configura a API do Gemini\n",
        "genai.configure(api_key=GOOGLE_API_KEY)\n",
        "\n",
        "# Modelo Gemini Pro para tarefas de linguagem\n",
        "model = genai.GenerativeModel('gemini-2.0-flash')\n",
        "\n",
        "def buscador_google(query, num_resultados=3):\n",
        "    \"\"\"\n",
        "    Simula uma busca no Google por artigos recentes sobre tecnologia de fontes confiáveis.\n",
        "    Em um cenário real, integraria uma API de busca.\n",
        "    \"\"\"\n",
        "    # Lista de fontes de tecnologia consideradas confiáveis (para simulação)\n",
        "    fontes_confiaveis = [\"TechCrunch\", \"The Verge\", \"Wired\"]\n",
        "    resultados_simulados = []\n",
        "    for i, fonte in enumerate(fontes_confiaveis):\n",
        "        resultados_simulados.append(f\"**Fonte:** {fonte}\\nArtigo recente sobre {query}...\")\n",
        "        if len(resultados_simulados) >= num_resultados:\n",
        "            break\n",
        "    return resultados_simulados\n",
        "\n",
        "def analista_ia(artigos):\n",
        "    \"\"\"\n",
        "    Realiza a análise cruzada do conteúdo textual dos artigos utilizando o Gemini.\n",
        "    \"\"\"\n",
        "    prompt_analise = f\"\"\"\n",
        "    Você é um analista de informações especializado em tecnologia.\n",
        "    Sua tarefa é analisar as seguintes fontes de informação sobre tecnologia:\n",
        "    {artigos}\n",
        "\n",
        "    Avalie a robustez metodológica, a clareza na apresentação das informações\n",
        "    e a identificação de possíveis vieses em cada uma das fontes.\n",
        "    Identifique os principais pontos de convergência e divergência nas abordagens\n",
        "    e na profundidade da análise dos temas tecnológicos em discussão.\n",
        "    Forneça um resumo da sua análise, focando na qualidade e na confiabilidade\n",
        "    das fontes como veículos de informação tecnológica.\n",
        "    \"\"\"\n",
        "    try:\n",
        "        response = model.generate_content(prompt_analise)\n",
        "        return response.text\n",
        "    except Exception as e:\n",
        "        return f\"**Erro ao gerar análise:** {e}\"\n",
        "\n",
        "# A função classificador_fontes foi removida\n",
        "\n",
        "# Exemplo de uso:\n",
        "if __name__ == \"__main__\":\n",
        "    termo_busca = \"últimas inovações em inteligência artificial\"\n",
        "    artigos_encontrados = buscador_google(termo_busca)\n",
        "\n",
        "    display(Markdown(\"### Artigos encontrados na busca (simulada):\"))\n",
        "    for artigo in artigos_encontrados:\n",
        "        display(Markdown(f\"* {artigo}\"))\n",
        "\n",
        "    analise = analista_ia(str(artigos_encontrados))\n",
        "    display(Markdown(\"\\n### Análise cruzada das fontes pelo agente de IA:\"))\n",
        "    display(Markdown(analise))\n",
        "\n",
        "    # A parte relacionada à classificação e ao cálculo de confiabilidade foi removida"
      ]
    }
  ]
}